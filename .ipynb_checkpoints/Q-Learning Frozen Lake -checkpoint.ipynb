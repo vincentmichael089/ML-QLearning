{
 "cells": [
  {
   "cell_type": "code",
   "execution_count": 1,
   "metadata": {},
   "outputs": [],
   "source": [
    "#import some stuff\n",
    "import numpy as np\n",
    "import random\n",
    "import gym\n",
    "import time\n",
    "from IPython.display import clear_output"
   ]
  },
  {
   "cell_type": "code",
   "execution_count": 2,
   "metadata": {},
   "outputs": [],
   "source": [
    "#create frozen lake environment\n",
    "environment = gym.make(\"FrozenLake-v0\")"
   ]
  },
  {
   "cell_type": "code",
   "execution_count": 4,
   "metadata": {},
   "outputs": [
    {
     "name": "stdout",
     "output_type": "stream",
     "text": [
      "[[0. 0. 0. 0.]\n",
      " [0. 0. 0. 0.]\n",
      " [0. 0. 0. 0.]\n",
      " [0. 0. 0. 0.]\n",
      " [0. 0. 0. 0.]\n",
      " [0. 0. 0. 0.]\n",
      " [0. 0. 0. 0.]\n",
      " [0. 0. 0. 0.]\n",
      " [0. 0. 0. 0.]\n",
      " [0. 0. 0. 0.]\n",
      " [0. 0. 0. 0.]\n",
      " [0. 0. 0. 0.]\n",
      " [0. 0. 0. 0.]\n",
      " [0. 0. 0. 0.]\n",
      " [0. 0. 0. 0.]\n",
      " [0. 0. 0. 0.]]\n"
     ]
    }
   ],
   "source": [
    "#initiate q-table\n",
    "action_space_size = environment.action_space.n\n",
    "state_space_size = environment.observation_space.n #4 state = agentstartpoint, frozensurface, hole, goal\n",
    "\n",
    "qtable = np.zeros((state_space_size,action_space_size))\n",
    "print(qtable)"
   ]
  },
  {
   "cell_type": "code",
   "execution_count": 10,
   "metadata": {},
   "outputs": [],
   "source": [
    "#hyperparameter\n",
    "episodes = 10000\n",
    "maxstep = 100\n",
    "learningrate = 0.1\n",
    "discountrate = 0.99\n",
    "explorationrate = 1\n",
    "explorationrate_max = 1\n",
    "explorationrate_min = 0.01\n",
    "explorationrate_decay = 0.001"
   ]
  },
  {
   "cell_type": "code",
   "execution_count": 12,
   "metadata": {},
   "outputs": [
    {
     "name": "stdout",
     "output_type": "stream",
     "text": [
      "average reward /1000 episodes: \n",
      "1000  :  0.06100000000000005\n",
      "2000  :  0.20100000000000015\n",
      "3000  :  0.4060000000000003\n",
      "4000  :  0.5860000000000004\n",
      "5000  :  0.6600000000000005\n",
      "6000  :  0.6610000000000005\n",
      "7000  :  0.6750000000000005\n",
      "8000  :  0.7350000000000005\n",
      "9000  :  0.6540000000000005\n",
      "10000  :  0.6840000000000005\n",
      "Q-table\n",
      "[[0.49961455 0.47867414 0.47937189 0.47403034]\n",
      " [0.37051845 0.3484302  0.32009563 0.44717612]\n",
      " [0.38467188 0.37955228 0.39173436 0.42907532]\n",
      " [0.30817131 0.26688642 0.32207994 0.41551356]\n",
      " [0.51830904 0.4535969  0.29979344 0.37587087]\n",
      " [0.         0.         0.         0.        ]\n",
      " [0.21548328 0.13896474 0.25639807 0.10598214]\n",
      " [0.         0.         0.         0.        ]\n",
      " [0.38373607 0.38875164 0.46640858 0.58064407]\n",
      " [0.38464545 0.65171962 0.36143672 0.3735718 ]\n",
      " [0.68916058 0.35024186 0.41139572 0.39780211]\n",
      " [0.         0.         0.         0.        ]\n",
      " [0.         0.         0.         0.        ]\n",
      " [0.45397612 0.52294425 0.7493848  0.55322275]\n",
      " [0.7072678  0.91583288 0.76987427 0.71327121]\n",
      " [0.         0.         0.         0.        ]]\n"
     ]
    }
   ],
   "source": [
    "episodesreward = []\n",
    "\n",
    "\n",
    "for episode in range(episodes):\n",
    "    state = environment.reset()\n",
    "    done = False\n",
    "    episodesreward_current = 0\n",
    "    \n",
    "    for step in range(maxstep):\n",
    "        #exploration-exploitation tradeoff\n",
    "        explorationrate_treshold = random.uniform(0,1)\n",
    "        if explorationrate_treshold > explorationrate:\n",
    "            action = np.argmax(qtable[state,:]) #exploit\n",
    "        else:\n",
    "            action = environment.action_space.sample() #explore\n",
    "        \n",
    "        new_state, reward, done, info = environment.step(action)\n",
    "        \n",
    "        #update Q-table for Q(state,action)\n",
    "        qtable[state,action] = qtable[state,action]*(1-learningrate)+learningrate*(reward+discountrate*np.max(qtable[new_state,:]))\n",
    "        \n",
    "        state = new_state\n",
    "        episodesreward_current += reward\n",
    "        \n",
    "        if done == True:\n",
    "            break\n",
    "            \n",
    "    #exploration rate decay\n",
    "    explorationrate = explorationrate_min + (explorationrate_max-explorationrate_min)*np.exp(-explorationrate_decay*episode)\n",
    "    \n",
    "    episodesreward.append(episodesreward_current)\n",
    "\n",
    "#average reward /1000 episodes\n",
    "episodesreward_1000 = np.split(np.array(episodesreward),episodes/1000)\n",
    "count = 1000\n",
    "print(\"average reward /1000 episodes: \")\n",
    "for reward in episodesreward_1000:\n",
    "    print(count,\" : \",str(sum(reward/1000)))\n",
    "    count += 1000\n",
    "    \n",
    "#updated Q-table\n",
    "print(\"Q-table\")\n",
    "print(qtable)"
   ]
  },
  {
   "cell_type": "code",
   "execution_count": null,
   "metadata": {},
   "outputs": [],
   "source": []
  }
 ],
 "metadata": {
  "kernelspec": {
   "display_name": "Python 3",
   "language": "python",
   "name": "python3"
  },
  "language_info": {
   "codemirror_mode": {
    "name": "ipython",
    "version": 3
   },
   "file_extension": ".py",
   "mimetype": "text/x-python",
   "name": "python",
   "nbconvert_exporter": "python",
   "pygments_lexer": "ipython3",
   "version": "3.6.8"
  }
 },
 "nbformat": 4,
 "nbformat_minor": 2
}
